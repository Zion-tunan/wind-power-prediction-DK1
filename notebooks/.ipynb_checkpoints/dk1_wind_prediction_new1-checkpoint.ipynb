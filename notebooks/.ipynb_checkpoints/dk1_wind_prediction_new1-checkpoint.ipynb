{
 "cells": [
  {
   "cell_type": "code",
   "execution_count": null,
   "id": "e4a5f066",
   "metadata": {},
   "outputs": [],
   "source": [
    "# Placeholder: Please run your earlier steps before this cell"
   ]
  },
  {
   "cell_type": "code",
   "execution_count": null,
   "id": "f8868930",
   "metadata": {},
   "outputs": [],
   "source": [
    "\n",
    "# 8. Improved Model with Advanced Features\n",
    "\n",
    "# Feature engineering (extended)\n",
    "df['lag3'] = df['windspeed_10m'].shift(3)\n",
    "df['lag6'] = df['windspeed_10m'].shift(6)\n",
    "df['rolling_mean_3'] = df['windspeed_10m'].rolling(3).mean()\n",
    "df['delta_wind'] = df['windspeed_10m'] - df['lag1']\n",
    "\n",
    "# Drop NA from rolling and lags\n",
    "df.dropna(inplace=True)\n",
    "\n",
    "# New feature list\n",
    "features_improved = ['windspeed_10m', 'lag1', 'lag3', 'lag6', 'rolling_mean_3', 'delta_wind', 'hour', 'month', 'dayofweek']\n",
    "\n",
    "# Train/test split\n",
    "X_imp = df[features_improved]\n",
    "y_imp = df['wind_power_actual']\n",
    "X_train_imp, X_test_imp, y_train_imp, y_test_imp = train_test_split(X_imp, y_imp, test_size=0.2, shuffle=False)\n",
    "\n",
    "# Train improved model\n",
    "model_imp = XGBRegressor(n_estimators=300, learning_rate=0.05, max_depth=6, subsample=0.8, colsample_bytree=0.8)\n",
    "model_imp.fit(X_train_imp, y_train_imp)\n",
    "y_pred_imp = model_imp.predict(X_test_imp)\n",
    "\n",
    "# Evaluate improved model\n",
    "rmse_imp = mean_squared_error(y_test_imp, y_pred_imp, squared=False)\n",
    "r2_imp = r2_score(y_test_imp, y_pred_imp)\n",
    "print(f'Improved RMSE: {rmse_imp:.2f} MW')\n",
    "print(f'Improved R² Score: {r2_imp:.2f}')\n",
    "\n",
    "# Plot results\n",
    "plt.figure(figsize=(12,5))\n",
    "plt.plot(y_test_imp.values[:200], label='Actual')\n",
    "plt.plot(y_pred_imp[:200], label='Predicted (Improved)')\n",
    "plt.legend()\n",
    "plt.title('Improved Wind Power Prediction (first 200 hours)')\n",
    "plt.xlabel('Time Index')\n",
    "plt.ylabel('Power [MW]')\n",
    "plt.tight_layout()\n",
    "plt.show()\n"
   ]
  }
 ],
 "metadata": {},
 "nbformat": 4,
 "nbformat_minor": 5
}
