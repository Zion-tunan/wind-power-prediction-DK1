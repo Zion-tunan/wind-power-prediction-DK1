{
 "cells": [
  {
   "cell_type": "markdown",
   "id": "d8078fd8-6484-4870-b2fd-4a753b9a698f",
   "metadata": {},
   "source": [
    "# Wind Speed Forecast in DK1\n",
    "\n",
    "Fetch wind speed (10m) forecast data for DK1 (Western Denmark) using Open-Meteo."
   ]
  },
  {
   "cell_type": "code",
   "execution_count": 4,
   "id": "87ca3853-6890-463a-acfe-3226d73ed6f3",
   "metadata": {},
   "outputs": [],
   "source": [
    "# 1. Imports\n",
    "\n",
    "import requests\n",
    "import pandas as pd\n",
    "\n",
    "from datetime import datetime, timedelta"
   ]
  },
  {
   "cell_type": "code",
   "execution_count": 6,
   "id": "000d1824-49af-43f4-adca-465a409a0364",
   "metadata": {},
   "outputs": [
    {
     "name": "stdout",
     "output_type": "stream",
     "text": [
      "Fetching 2016 weather data for Aarhus...\n",
      "✅ Saved 2016 historical weather data to: ../data/weather_2016_ecmwf.csv\n",
      "            timestamp  windspeed_10m  winddirection_10m  temperature_2m  \\\n",
      "0 2016-01-01 00:00:00           13.7                194             4.7   \n",
      "1 2016-01-01 01:00:00           12.4                188             4.4   \n",
      "2 2016-01-01 02:00:00           12.2                182             4.0   \n",
      "3 2016-01-01 03:00:00           13.0                186             3.6   \n",
      "4 2016-01-01 04:00:00           13.6                192             3.5   \n",
      "\n",
      "   surface_pressure  relativehumidity_2m  \n",
      "0            1015.8                   97  \n",
      "1            1016.1                   97  \n",
      "2            1016.6                   97  \n",
      "3            1017.0                   97  \n",
      "4            1017.3                   97  \n"
     ]
    }
   ],
   "source": [
    "# 2. fetch_historical_weather_ecmwf.py\n",
    "\n",
    "# Set location\n",
    "latitude = 56.1629     # Aarhus\n",
    "longitude = 10.2039\n",
    "days_back = 720        # Useless\n",
    "start_str = \"2016-01-01\"\n",
    "end_str = \"2016-12-31\"\n",
    "\n",
    "url = (\n",
    "    \"https://archive-api.open-meteo.com/v1/archive?\"\n",
    "    f\"latitude={latitude}&longitude={longitude}\"\n",
    "    \"&hourly=windspeed_10m,winddirection_10m,temperature_2m,surface_pressure,relativehumidity_2m\"\n",
    "    f\"&start_date={start_str}&end_date={end_str}\"\n",
    "    \"&timezone=auto\"\n",
    ")\n",
    "\n",
    "print(f\"Fetching 2016 weather data for Aarhus...\")\n",
    "response = requests.get(url)\n",
    "data = response.json()\n",
    "\n",
    "# Convert to DataFrame\n",
    "df_weather = pd.DataFrame({\n",
    "    \"timestamp\": data[\"hourly\"][\"time\"],\n",
    "    \"windspeed_10m\": data[\"hourly\"][\"windspeed_10m\"],\n",
    "    \"winddirection_10m\": data[\"hourly\"][\"winddirection_10m\"],\n",
    "    \"temperature_2m\": data[\"hourly\"][\"temperature_2m\"],\n",
    "    \"surface_pressure\": data[\"hourly\"][\"surface_pressure\"],\n",
    "    \"relativehumidity_2m\": data[\"hourly\"][\"relativehumidity_2m\"],\n",
    "})\n",
    "\n",
    "df_weather[\"timestamp\"] = pd.to_datetime(df_weather[\"timestamp\"])\n",
    "df_weather = df_weather.sort_values(\"timestamp\")\n",
    "\n",
    "# Save\n",
    "output_path = \"../data/weather_2016_ecmwf.csv\"\n",
    "df_weather.to_csv(output_path, index=False)\n",
    "\n",
    "print(\"✅ Saved 2016 historical weather data to:\", output_path)\n",
    "print(df_weather.head())\n"
   ]
  },
  {
   "cell_type": "code",
   "execution_count": 8,
   "id": "97aeafd5-9c10-44d5-9617-108dd20424dc",
   "metadata": {},
   "outputs": [
    {
     "name": "stdout",
     "output_type": "stream",
     "text": [
      "✅ 合并完成，已保存至 ../data/merged_training_data_2016.csv\n",
      "            timestamp  DK_1_wind_onshore_generation_actual  windspeed_10m  \\\n",
      "0 2016-01-01 00:00:00                               830.31           13.7   \n",
      "1 2016-01-01 01:00:00                               701.10           12.4   \n",
      "2 2016-01-01 02:00:00                               696.06           12.2   \n",
      "3 2016-01-01 03:00:00                               699.83           13.0   \n",
      "4 2016-01-01 04:00:00                               747.99           13.6   \n",
      "\n",
      "   winddirection_10m  temperature_2m  surface_pressure  relativehumidity_2m  \n",
      "0                194             4.7            1015.8                   97  \n",
      "1                188             4.4            1016.1                   97  \n",
      "2                182             4.0            1016.6                   97  \n",
      "3                186             3.6            1017.0                   97  \n",
      "4                192             3.5            1017.3                   97  \n"
     ]
    }
   ],
   "source": [
    "# Merge training data\n",
    "\n",
    "df_weather = pd.read_csv(\"../data/weather_2016_ecmwf.csv\", parse_dates=[\"timestamp\"])\n",
    "\n",
    "df_power = pd.read_csv(\"../data/wind_power.csv\", parse_dates=[\"utc_timestamp\"])\n",
    "df_power.rename(columns={\"utc_timestamp\": \"timestamp\"}, inplace=True)\n",
    "\n",
    "df_power[\"timestamp\"] = df_power[\"timestamp\"].dt.tz_localize(None)\n",
    "\n",
    "df = pd.merge(df_power, df_weather, on=\"timestamp\", how=\"inner\")\n",
    "\n",
    "df.to_csv(\"../data/merged_training_data_2016.csv\", index=False)\n",
    "print(\"✅ 合并完成，已保存至 ../data/merged_training_data_2016.csv\")\n",
    "print(df.head())"
   ]
  },
  {
   "cell_type": "code",
   "execution_count": 3,
   "id": "e5b97189-96dc-4105-9f5c-9e721ceb49c2",
   "metadata": {},
   "outputs": [
    {
     "name": "stdout",
     "output_type": "stream",
     "text": [
      "            timestamp  windspeed_10m  winddirection_10m  temperature_2m  \\\n",
      "0 2025-04-06 00:00:00           10.8                  8             5.0   \n",
      "1 2025-04-06 01:00:00           11.5                 14             4.8   \n",
      "2 2025-04-06 02:00:00           10.4                  7             4.4   \n",
      "3 2025-04-06 03:00:00            9.7                  6             4.1   \n",
      "4 2025-04-06 04:00:00            9.0                349             3.6   \n",
      "\n",
      "   surface_pressure  relativehumidity_2m  \n",
      "0            1024.9                   63  \n",
      "1            1025.1                   66  \n",
      "2            1025.6                   65  \n",
      "3            1025.6                   66  \n",
      "4            1026.0                   66  \n"
     ]
    }
   ],
   "source": [
    "# 2. Read forecasts data from ECMWF and save it\n",
    "\n",
    "# Aarhus, DK1 region\n",
    "latitude = 56.1629\n",
    "longitude = 10.2039\n",
    "\n",
    "url = (\n",
    "    \"https://api.open-meteo.com/v1/forecast?\"\n",
    "    f\"latitude={latitude}&longitude={longitude}\"\n",
    "    \"&hourly=windspeed_10m,winddirection_10m,temperature_2m,surface_pressure,relativehumidity_2m\"\n",
    "    \"&forecast_days=3\"\n",
    "    \"&timezone=auto\"\n",
    ")\n",
    "\n",
    "response = requests.get(url)\n",
    "data = response.json()\n",
    "\n",
    "df_forecast = pd.DataFrame({\n",
    "    \"timestamp\": data[\"hourly\"][\"time\"],\n",
    "    \"windspeed_10m\": data[\"hourly\"][\"windspeed_10m\"],\n",
    "    \"winddirection_10m\": data[\"hourly\"][\"winddirection_10m\"],\n",
    "    \"temperature_2m\": data[\"hourly\"][\"temperature_2m\"],\n",
    "    \"surface_pressure\": data[\"hourly\"][\"surface_pressure\"],\n",
    "    \"relativehumidity_2m\": data[\"hourly\"][\"relativehumidity_2m\"],\n",
    "})\n",
    "\n",
    "df_forecast[\"timestamp\"] = pd.to_datetime(df_forecast[\"timestamp\"])\n",
    "\n",
    "print(df_forecast.head())\n",
    "df_forecast.to_csv(\"../data/forecast_wind_dk1.csv\", index=False)"
   ]
  },
  {
   "cell_type": "code",
   "execution_count": null,
   "id": "5f4debea-ade2-4084-8056-2dcc3b2a9d35",
   "metadata": {},
   "outputs": [],
   "source": []
  }
 ],
 "metadata": {
  "kernelspec": {
   "display_name": "Python 3 (ipykernel)",
   "language": "python",
   "name": "python3"
  },
  "language_info": {
   "codemirror_mode": {
    "name": "ipython",
    "version": 3
   },
   "file_extension": ".py",
   "mimetype": "text/x-python",
   "name": "python",
   "nbconvert_exporter": "python",
   "pygments_lexer": "ipython3",
   "version": "3.9.21"
  }
 },
 "nbformat": 4,
 "nbformat_minor": 5
}
