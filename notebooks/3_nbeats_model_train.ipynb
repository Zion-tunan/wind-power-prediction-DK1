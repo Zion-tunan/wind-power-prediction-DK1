{
 "cells": [
  {
   "cell_type": "markdown",
   "id": "3853470e-cf81-47a8-9f5d-6e6d956bb36e",
   "metadata": {},
   "source": [
    "# 🌬️ NBeats-based Wind Power Forecasting (DK1)\n",
    "\n",
    "Predict wind power output using historical windspeed and time features via N-Beats"
   ]
  },
  {
   "cell_type": "code",
   "execution_count": null,
   "id": "f2f98d31-9c85-4b4f-aa37-b5ee90f9f304",
   "metadata": {},
   "outputs": [],
   "source": [
    "# Imports\n",
    "\n",
    "import numpy as np\n",
    "import pandas as pd\n",
    "import matplotlib.pyplot as plt\n",
    "\n",
    "from darts import TimeSeries\n",
    "from darts.models import NBEATSModel\n",
    "from darts.dataprocessing.transformers import Scaler\n",
    "from darts.metrics import r2_score\n",
    "from darts.utils.timeseries_generation import datetime_attribute_timeseries\n",
    "from sklearn.metrics import mean_squared_error"
   ]
  },
  {
   "cell_type": "code",
   "execution_count": null,
   "id": "5dd82d3d-a294-45da-ac34-45645779dc54",
   "metadata": {},
   "outputs": [],
   "source": [
    "# Load your merged dataset\n",
    "df = pd.read_csv(\"merged_training_data_2016.csv\", parse_dates=[\"timestamp\"])\n",
    "df.rename(columns={\"DK_1_wind_onshore_generation_actual\": \"wind_power_actual\"}, inplace=True)\n",
    "\n",
    "# Set timestamp as index\n",
    "df = df.set_index(\"timestamp\")\n",
    "\n",
    "# Main target series\n",
    "target_series = TimeSeries.from_series(df[\"wind_power_actual\"])\n",
    "\n",
    "# Covariates: meteorological features\n",
    "covariates = df[[\n",
    "    \"windspeed_10m\", \"winddirection_10m\", \"temperature_2m\",\n",
    "    \"surface_pressure\", \"relativehumidity_2m\"\n",
    "]]\n",
    "covariate_series = TimeSeries.from_dataframe(covariates, fill_missing_dates=True, freq=\"H\")\n",
    "\n",
    "# Normalize\n",
    "scaler_target = Scaler()\n",
    "scaler_covariates = Scaler()\n",
    "\n",
    "target_scaled = scaler_target.fit_transform(target_series)\n",
    "covariates_scaled = scaler_covariates.fit_transform(covariate_series)"
   ]
  },
  {
   "cell_type": "code",
   "execution_count": null,
   "id": "f96bde06-dd2a-41ac-bc97-bf7b3d6919c7",
   "metadata": {},
   "outputs": [],
   "source": [
    "# Forecast the last 7 days (168 hours)\n",
    "train_target, val_target = target_scaled[:-168], target_scaled[-168:]\n",
    "train_cov, val_cov = covariates_scaled[:-168], covariates_scaled[-168:]\n",
    "\n",
    "model = NBEATSModel(\n",
    "    input_chunk_length=168,   # past window\n",
    "    output_chunk_length=24,   # predict 24h ahead\n",
    "    n_epochs=100,\n",
    "    batch_size=64,\n",
    "    random_state=42,\n",
    "    force_reset=True\n",
    ")\n",
    "\n",
    "# Fit model\n",
    "model.fit(series=train_target, past_covariates=train_cov, verbose=True)"
   ]
  },
  {
   "cell_type": "code",
   "execution_count": null,
   "id": "2bc7095e-69b5-41eb-976c-7178a26bd0cd",
   "metadata": {},
   "outputs": [],
   "source": [
    "# Prediction\n",
    "\n",
    "val_cov = covariates_scaled[-336:]\n",
    "pred = model.predict(n=168, past_covariates=val_cov)\n",
    "\n",
    "val_target_aligned = val_target.slice(pred.start_time(), pred.end_time())\n",
    "\n",
    "r2 = r2_score(val_target_aligned, pred)\n",
    "rmse = np.sqrt(mean_squared_error(val_target_aligned.values(), pred.values()))\n",
    "\n",
    "print(f\"✅ Aligned R² Score: {r2:.4f}\")\n",
    "print(f\"✅ Aligned RMSE: {rmse:.2f} MW\")\n",
    "\n",
    "pred = model.predict(n=168, past_covariates=val_cov)\n",
    "pred.plot(label=\"forecast\")\n",
    "val_target.plot(label=\"actual\")\n",
    "plt.title(\"N-BEATS Wind Power Forecast (Last 7 Days)\")\n",
    "plt.legend()\n",
    "plt.show()"
   ]
  },
  {
   "cell_type": "code",
   "execution_count": null,
   "id": "f91b9ae1-aa2b-4b5d-b94b-0f823e822244",
   "metadata": {},
   "outputs": [],
   "source": [
    "# Save model\n",
    "model.save(\"nbeats_model.pth\")\n",
    "\n",
    "# Export predicted data\n",
    "pred_pd = pred.pd_dataframe()\n",
    "pred_pd.to_csv(\"nbeats_forecast.csv\")"
   ]
  }
 ],
 "metadata": {
  "kernelspec": {
   "display_name": "Python (predict_test)",
   "language": "python",
   "name": "predict_test"
  },
  "language_info": {
   "codemirror_mode": {
    "name": "ipython",
    "version": 3
   },
   "file_extension": ".py",
   "mimetype": "text/x-python",
   "name": "python",
   "nbconvert_exporter": "python",
   "pygments_lexer": "ipython3",
   "version": "3.9.21"
  }
 },
 "nbformat": 4,
 "nbformat_minor": 5
}
